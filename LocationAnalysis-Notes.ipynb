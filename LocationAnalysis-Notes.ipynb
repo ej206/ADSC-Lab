{
 "cells": [
  {
   "cell_type": "markdown",
   "metadata": {},
   "source": [
    "> Now that you have been equipped with the skills and the tools to use location data to explore a geographical location, over the course of two weeks, you will have the opportunity to be as creative as you want and come up with an idea to leverage the Foursquare location data to explore or compare neighborhoods or cities of your choice or to come up with a problem that you can use the Foursquare location data to solve. \n",
    "\n",
    "> If you cannot think of an idea or a problem, here are some ideas to get you started:\n",
    "\n",
    ">>  In Module 3, we explored New York City and the city of Toronto and segmented and clustered their neighborhoods. Both cities are very diverse and are the financial capitals of their respective countries. One interesting idea would be to compare the neighborhoods of the two cities and determine how similar or dissimilar they are. Is New York City more like Toronto or Paris or some other multicultural city? I will leave it to you to refine this idea.\n",
    "In a city of your choice, if someone is looking to open a restaurant, where would you recommend that they open it? Similarly, if a contractor is trying to start their own business, where would you recommend that they setup their office?\n",
    "These are just a couple of many ideas and problems that can be solved using location data in addition to other datasets. No matter what you decide to do, make sure to provide sufficient justification of why you think what you want to do or solve is important and why would a client or a group of people be interested in your project.\n",
    "\n",
    "### Review criterialess \n",
    ">This capstone project will be graded by your peers. This capstone project is worth 70% of your total grade. The project will be completed over the course of 2 weeks. Week 1 submissions will be worth 30% whereas week 2 submissions will be worth 40% of your total grade.\n",
    "\n",
    "> For this week, you will required to submit the following:\n",
    "\n",
    "\n",
    "\n",
    "> For the second week, the final deliverables of the project will be:\n",
    "\n",
    "    1. A link to your Notebook on your Github repository, showing your code. (15 marks)\n",
    "    2. A full report consisting of all of the following components (15 marks):\n",
    "        - Introduction where you discuss the business problem and who would be interested in this project.\n",
    "        - Data where you describe the data that will be used to solve the problem and the source of the data.\n",
    "        - Methodology section which represents the main component of the report where you discuss and describe any exploratory data analysis that you did, any inferential statistical testing that you performed, if any, and what machine learnings were used and why.\n",
    "        - Results section where you discuss the results.\n",
    "        - Discussion section where you discuss any observations you noted and any recommendations you can make based on the results.\n",
    "        - Conclusion section where you conclude the report.\n",
    "    3. Your choice of a presentation or blogpost. (10 marks)"
   ]
  },
  {
   "cell_type": "markdown",
   "metadata": {},
   "source": [
    "Background draft initial\n",
    "> A stylist who is also an entrepeneur looking to open a salon in either Madrid or New York would want to know several things about the neighborhoods in each city.  For instance, the person would want to know how many Salon's there are in each neighborhood of each city to get a feel for what the competition would be like.  In order to pick an ideal location, the person would also want to know what other kinds of businesses are predominant in each neighborhood.  Of course, the person would want the location to have other types of businesses that are complimentary to the services they will be providing.  For instance, it would probably not be a good idea to open a salon in a predominantly fish selling market.  Or to open a salon in a neighborhood where there are already a glut of salons."
   ]
  },
  {
   "cell_type": "markdown",
   "metadata": {},
   "source": [
    "***\n",
    "\n",
    "## Data\n",
    "   "
   ]
  },
  {
   "cell_type": "code",
   "execution_count": null,
   "metadata": {},
   "outputs": [],
   "source": [
    "##import necessary modules\n",
    "import pandas as pd\n",
    "from bs4 import BeautifulSoup\n",
    "import requests\n",
    "import json\n",
    "import numpy as np\n",
    "import os #import for file handling\n",
    "import folium\n",
    "\n",
    "# Matplotlib and associated plotting modules\n",
    "import matplotlib.cm as cm\n",
    "import matplotlib.colors as colors\n",
    "\n",
    "# import k-means from clustering stage\n",
    "from sklearn.cluster import KMeans"
   ]
  },
  {
   "cell_type": "code",
   "execution_count": null,
   "metadata": {},
   "outputs": [],
   "source": [
    "#get keys for API's\n",
    "with open('gk','r') as gk:\n",
    "    gkey=gk.readline()\n",
    "    \n",
    "with open('fk','r') as fk:\n",
    "    lines=fk.readlines()\n",
    "    CLIENT_ID=lines[0].strip()\n",
    "    CLIENT_SECRET=lines[1].strip()\n",
    "    VERSION = '20200517' # Foursquare API version"
   ]
  },
  {
   "cell_type": "code",
   "execution_count": null,
   "metadata": {},
   "outputs": [],
   "source": [
    "#define handy functions\n",
    "def getgeodata(postal_code,key):\n",
    "    #generate url\n",
    "    apiurl='https://maps.googleapis.com/maps/api/geocode/json?address={},+Toronto,+Canada&key={}'.format(postal_code,key)   \n",
    " \n",
    "    #create a file to write\n",
    "    fname='./geodata/{}.json'.format(postal_code)\n",
    "    if os.path.exists(fname):\n",
    "        f=open(fname,'r')\n",
    "        jsondata=f.read()\n",
    "        f.close\n",
    "        return jsondata\n",
    "    else:\n",
    "        f=open(fname,'x')\n",
    "        url=requests.get(apiurl)\n",
    "        jsondata=url.text\n",
    "        f.write(jsondata)\n",
    "        f.close\n",
    "        return jsondata\n",
    "\n",
    "#borrowed from the DP0701EN-3-3-2 lab.  function to returm most common venues\n",
    "def return_most_common_venues(row, num_top_venues):\n",
    "    row_categories = row.iloc[1:]\n",
    "    row_categories_sorted = row_categories.sort_values(ascending=False)\n",
    "    \n",
    "    return row_categories_sorted.index.values[0:num_top_venues]"
   ]
  },
  {
   "cell_type": "code",
   "execution_count": null,
   "metadata": {},
   "outputs": [],
   "source": [
    "g_places=\"https://maps.googleapis.com/maps/api/place/nearbysearch/json?location={},{}&radius={}&type={}&keyword={}&key={}\".format(location,\n",
    "                                                                                                                                 radius,\n",
    "                                                                                                                                 type,\n",
    "                                                                                                                                 keyword,\n",
    "                                                                                                                                 key)"
   ]
  }
 ],
 "metadata": {
  "kernelspec": {
   "display_name": "Python 3",
   "language": "python",
   "name": "python3"
  },
  "language_info": {
   "codemirror_mode": {
    "name": "ipython",
    "version": 3
   },
   "file_extension": ".py",
   "mimetype": "text/x-python",
   "name": "python",
   "nbconvert_exporter": "python",
   "pygments_lexer": "ipython3",
   "version": "3.7.5"
  }
 },
 "nbformat": 4,
 "nbformat_minor": 2
}
