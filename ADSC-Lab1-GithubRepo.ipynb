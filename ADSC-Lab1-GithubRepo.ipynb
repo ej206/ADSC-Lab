{
 "cells": [
  {
   "cell_type": "markdown",
   "metadata": {},
   "source": [
    "<h1 align=center><font size = 8>Welcome!</font></h1> \n",
    "\n",
    "## Introduction\n",
    "My name is Ed Dela Cruz.  This is a Jupyter Notebook that will be used for Applied Data Science Capstone (ADSC) course by Coursera and IBM.  I will be using this Notebook primarily for any labs in the ADSC course!"
   ]
  },
  {
   "cell_type": "code",
   "execution_count": 1,
   "metadata": {},
   "outputs": [
    {
     "name": "stdout",
     "output_type": "stream",
     "text": [
      "Hello Capstone Project Course!\n"
     ]
    }
   ],
   "source": [
    "##Import necessary modules for this lab\n",
    "import pandas as pd\n",
    "import numpy as np\n",
    "\n",
    "##Print intro\n",
    "print(\"Hello Capstone Project Course!\")"
   ]
  },
  {
   "cell_type": "code",
   "execution_count": null,
   "metadata": {},
   "outputs": [],
   "source": []
  }
 ],
 "metadata": {
  "kernelspec": {
   "display_name": "Python 2",
   "language": "python",
   "name": "python2"
  },
  "language_info": {
   "codemirror_mode": {
    "name": "ipython",
    "version": 2
   },
   "file_extension": ".py",
   "mimetype": "text/x-python",
   "name": "python",
   "nbconvert_exporter": "python",
   "pygments_lexer": "ipython2",
   "version": "2.7.17"
  }
 },
 "nbformat": 4,
 "nbformat_minor": 2
}
